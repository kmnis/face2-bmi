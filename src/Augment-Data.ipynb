{
 "cells": [
  {
   "cell_type": "code",
   "execution_count": 1,
   "id": "b6c61884",
   "metadata": {
    "ExecuteTime": {
     "end_time": "2023-05-22T10:26:25.105976Z",
     "start_time": "2023-05-22T10:26:23.742464Z"
    }
   },
   "outputs": [],
   "source": [
    "import pandas as pd\n",
    "import os\n",
    "from PIL import Image\n",
    "import numpy as np\n",
    "\n",
    "import matplotlib.pyplot as plt\n",
    "import seaborn as sns\n",
    "from tqdm.notebook import tqdm\n",
    "\n",
    "import imgaug as ia\n",
    "import imgaug.augmenters as iaa\n",
    "\n",
    "sns.set_style(\"whitegrid\")"
   ]
  },
  {
   "cell_type": "code",
   "execution_count": 4,
   "id": "b60be131",
   "metadata": {
    "ExecuteTime": {
     "end_time": "2023-05-21T04:09:32.537835Z",
     "start_time": "2023-05-21T04:09:32.507783Z"
    }
   },
   "outputs": [
    {
     "data": {
      "text/plain": [
       "(4206, 4)"
      ]
     },
     "execution_count": 4,
     "metadata": {},
     "output_type": "execute_result"
    }
   ],
   "source": [
    "data = pd.read_csv(\"../data/data.csv\")\n",
    "del data[\"Unnamed: 0\"]\n",
    "data.shape"
   ]
  },
  {
   "cell_type": "code",
   "execution_count": 5,
   "id": "4220ab6b",
   "metadata": {
    "ExecuteTime": {
     "end_time": "2023-05-21T04:09:57.467270Z",
     "start_time": "2023-05-21T04:09:33.794183Z"
    }
   },
   "outputs": [
    {
     "data": {
      "text/plain": [
       "(3210, 3210)"
      ]
     },
     "execution_count": 5,
     "metadata": {},
     "output_type": "execute_result"
    }
   ],
   "source": [
    "img_paths, y = [], []\n",
    "for i in range(len(data)):\n",
    "    p = f\"../data/Images/{data.name[i]}\"\n",
    "    if os.path.exists(p) and data.is_training[i]:\n",
    "        img_paths.append(p)\n",
    "        y.append(data.bmi[i])\n",
    "\n",
    "y = np.array(y)\n",
    "len(img_paths), len(y)"
   ]
  },
  {
   "cell_type": "code",
   "execution_count": 4,
   "id": "b33eb0b4",
   "metadata": {
    "ExecuteTime": {
     "end_time": "2023-05-21T01:36:36.183661Z",
     "start_time": "2023-05-21T01:36:36.181690Z"
    }
   },
   "outputs": [],
   "source": [
    "# images = [np.array(Image.open(p)) for p in img_paths]"
   ]
  },
  {
   "cell_type": "code",
   "execution_count": 6,
   "id": "b4d8ddf9",
   "metadata": {
    "ExecuteTime": {
     "end_time": "2023-05-21T04:10:52.865221Z",
     "start_time": "2023-05-21T04:09:57.468832Z"
    }
   },
   "outputs": [
    {
     "data": {
      "text/plain": [
       "(28, 2951, 231)"
      ]
     },
     "execution_count": 6,
     "metadata": {},
     "output_type": "execute_result"
    }
   ],
   "source": [
    "low_bmi_paths = [p for i, p in enumerate(img_paths) if y[i] <= 20]\n",
    "low_bmi_imgs = [np.array(Image.open(p)) for i, p in enumerate(img_paths) if y[i] <= 20]\n",
    "low_bmi = [x for x in y if x <= 20]\n",
    "\n",
    "mid_bmi_paths = [p for i, p in enumerate(img_paths) if y[i] > 20 and y[i] < 45]\n",
    "mid_bmi_imgs = [np.array(Image.open(p)) for i, p in enumerate(img_paths) if y[i] > 20 and y[i] < 45]\n",
    "mid_bmi = [x for x in y if x > 20 and x < 45]\n",
    "\n",
    "high_bmi_paths = [p for i, p in enumerate(img_paths) if y[i] >= 45]\n",
    "high_bmi_imgs = [np.array(Image.open(p)) for i, p in enumerate(img_paths) if y[i] >= 45]\n",
    "high_bmi = [x for x in y if x >= 45]\n",
    "\n",
    "len(low_bmi_imgs), len(mid_bmi_imgs), len(high_bmi_imgs)"
   ]
  },
  {
   "cell_type": "code",
   "execution_count": 3,
   "id": "153dd632",
   "metadata": {
    "ExecuteTime": {
     "end_time": "2023-05-22T10:27:43.186685Z",
     "start_time": "2023-05-22T10:27:43.085025Z"
    }
   },
   "outputs": [
    {
     "data": {
      "image/png": "[encoded data removed]",
      "text/plain": [
       "<Figure size 640x480 with 1 Axes>"
      ]
     },
     "metadata": {},
     "output_type": "display_data"
    }
   ],
   "source": [
    "ax = sns.barplot(x=[\"Low BMI\", \"Medium BMI\", \"High BMI\"], y=[28, 2951, 231], alpha=0.8, edgecolor='k')\n",
    "ax.bar_label(ax.containers[0])\n",
    "\n",
    "plt.title('BMI Categories')\n",
    "plt.ylabel('Count', fontsize=12)\n",
    "plt.xlabel('Category', fontsize=12)\n",
    "plt.show()"
   ]
  },
  {
   "cell_type": "code",
   "execution_count": 7,
   "id": "52c08850",
   "metadata": {
    "ExecuteTime": {
     "end_time": "2023-05-21T04:10:52.872166Z",
     "start_time": "2023-05-21T04:10:52.867454Z"
    }
   },
   "outputs": [],
   "source": [
    "def get_new_images(images, seed):\n",
    "    ia.seed(seed)\n",
    "    seq = iaa.Sequential([\n",
    "        iaa.Fliplr(0.5),\n",
    "        iaa.Crop(percent=(0, 0.1)),\n",
    "        iaa.Sometimes(\n",
    "            0.5,\n",
    "            iaa.GaussianBlur(sigma=(0, 0.5))\n",
    "        ),\n",
    "        iaa.LinearContrast((0.75, 1.5)),\n",
    "        iaa.AdditiveGaussianNoise(loc=0, scale=(0.0, 0.05*255), per_channel=0.5),\n",
    "        iaa.Multiply((0.8, 1.2), per_channel=0.2),\n",
    "        iaa.Affine(\n",
    "            scale={\"x\": (0.8, 1.2), \"y\": (0.8, 1.2)},\n",
    "            translate_percent={\"x\": (-0.2, 0.2), \"y\": (-0.2, 0.2)},\n",
    "            rotate=(-25, 25),\n",
    "            shear=(-8, 8)\n",
    "        )\n",
    "    ], random_order=True)\n",
    "\n",
    "    return seq(images=images)"
   ]
  },
  {
   "cell_type": "code",
   "execution_count": 10,
   "id": "e35994d8",
   "metadata": {
    "ExecuteTime": {
     "end_time": "2023-05-21T04:12:46.155181Z",
     "start_time": "2023-05-21T04:12:43.850058Z"
    }
   },
   "outputs": [
    {
     "data": {
      "application/vnd.jupyter.widget-view+json": {
       "model_id": "605a880872d540a68582555e57809893",
       "version_major": 2,
       "version_minor": 0
      },
      "text/plain": [
       "  0%|          | 0/20 [00:00<?, ?it/s]"
      ]
     },
     "metadata": {},
     "output_type": "display_data"
    },
    {
     "data": {
      "text/plain": [
       "(588, 588, 588)"
      ]
     },
     "execution_count": 10,
     "metadata": {},
     "output_type": "execute_result"
    }
   ],
   "source": [
    "low_bmi_paths_copy = low_bmi_paths.copy()\n",
    "low_bmi_imgs_copy = low_bmi_imgs.copy()\n",
    "low_bmi_copy = low_bmi.copy()\n",
    "for i in tqdm(range(20)):\n",
    "    aug_imgs = get_new_images(low_bmi_imgs_copy, i)\n",
    "    low_bmi_paths += [x.replace(\".bmp\", f\"_{i}.bmp\") for x in low_bmi_paths_copy]\n",
    "    low_bmi_imgs += aug_imgs\n",
    "    low_bmi += low_bmi_copy\n",
    "\n",
    "del low_bmi_paths_copy, low_bmi_imgs_copy, low_bmi_copy\n",
    "len(low_bmi_paths), len(low_bmi_imgs), len(low_bmi)"
   ]
  },
  {
   "cell_type": "code",
   "execution_count": 11,
   "id": "bf512b12",
   "metadata": {
    "ExecuteTime": {
     "end_time": "2023-05-21T04:12:52.610850Z",
     "start_time": "2023-05-21T04:12:47.347663Z"
    }
   },
   "outputs": [
    {
     "data": {
      "application/vnd.jupyter.widget-view+json": {
       "model_id": "2a2c06db55844f23a0706ecd6a328efe",
       "version_major": 2,
       "version_minor": 0
      },
      "text/plain": [
       "  0%|          | 0/5 [00:00<?, ?it/s]"
      ]
     },
     "metadata": {},
     "output_type": "display_data"
    },
    {
     "data": {
      "text/plain": [
       "(1386, 1386, 1386)"
      ]
     },
     "execution_count": 11,
     "metadata": {},
     "output_type": "execute_result"
    }
   ],
   "source": [
    "high_bmi_paths_copy = high_bmi_paths.copy()\n",
    "high_bmi_imgs_copy = high_bmi_imgs.copy()\n",
    "high_bmi_copy = high_bmi.copy()\n",
    "for i in tqdm(range(5)):\n",
    "    aug_imgs = get_new_images(high_bmi_imgs_copy, i)\n",
    "    high_bmi_paths += [x.replace(\".bmp\", f\"_{i}.bmp\") for x in high_bmi_paths_copy]\n",
    "    high_bmi_imgs += aug_imgs\n",
    "    high_bmi += high_bmi_copy\n",
    "\n",
    "del high_bmi_paths_copy, high_bmi_imgs_copy, high_bmi_copy\n",
    "len(high_bmi_paths), len(high_bmi_imgs), len(high_bmi)"
   ]
  },
  {
   "cell_type": "code",
   "execution_count": 12,
   "id": "b3f79aa3",
   "metadata": {
    "ExecuteTime": {
     "end_time": "2023-05-21T04:12:53.784341Z",
     "start_time": "2023-05-21T04:12:53.779976Z"
    }
   },
   "outputs": [
    {
     "data": {
      "text/plain": [
       "(4925, 4925, 4925)"
      ]
     },
     "execution_count": 12,
     "metadata": {},
     "output_type": "execute_result"
    }
   ],
   "source": [
    "paths = low_bmi_paths + mid_bmi_paths + high_bmi_paths\n",
    "images = low_bmi_imgs + mid_bmi_imgs + high_bmi_imgs\n",
    "bmi = low_bmi + mid_bmi + high_bmi\n",
    "\n",
    "len(paths), len(images), len(bmi)"
   ]
  },
  {
   "cell_type": "code",
   "execution_count": 16,
   "id": "a420870d",
   "metadata": {
    "ExecuteTime": {
     "end_time": "2023-05-21T04:13:56.060444Z",
     "start_time": "2023-05-21T04:13:55.802637Z"
    }
   },
   "outputs": [
    {
     "data": {
      "image/png": "[encoded data removed]",
      "text/plain": [
       "<Figure size 1200x500 with 2 Axes>"
      ]
     },
     "metadata": {},
     "output_type": "display_data"
    }
   ],
   "source": [
    "fig, axes = plt.subplots(1, 2, figsize=(12, 5), sharey=True)\n",
    "\n",
    "sns.histplot(data=y, bins=np.arange(15, 90, 5), ax=axes[0], edgecolor=\"k\")\n",
    "sns.histplot(data=bmi, bins=np.arange(15, 90, 5), ax=axes[1], edgecolor=\"k\")\n",
    "\n",
    "axes[0].set_title(\"BMI distribution before data augmentation\")\n",
    "axes[1].set_title(\"BMI distribution after data augmentation\")\n",
    "\n",
    "axes[0].set_xlabel(\"BMI\")\n",
    "axes[1].set_xlabel(\"BMI\")\n",
    "axes[0].set_ylabel(\"Count\")\n",
    "\n",
    "plt.tight_layout()\n",
    "plt.show()"
   ]
  },
  {
   "cell_type": "code",
   "execution_count": 17,
   "id": "3f95a0c4",
   "metadata": {
    "ExecuteTime": {
     "end_time": "2023-05-21T04:14:17.382720Z",
     "start_time": "2023-05-21T04:14:17.371402Z"
    }
   },
   "outputs": [
    {
     "data": {
      "text/html": [
       "<div>\n",
       "<style scoped>\n",
       "    .dataframe tbody tr th:only-of-type {\n",
       "        vertical-align: middle;\n",
       "    }\n",
       "\n",
       "    .dataframe tbody tr th {\n",
       "        vertical-align: top;\n",
       "    }\n",
       "\n",
       "    .dataframe thead th {\n",
       "        text-align: right;\n",
       "    }\n",
       "</style>\n",
       "<table border=\"1\" class=\"dataframe\">\n",
       "  <thead>\n",
       "    <tr style=\"text-align: right;\">\n",
       "      <th></th>\n",
       "      <th>bmi</th>\n",
       "      <th>gender</th>\n",
       "      <th>is_training</th>\n",
       "      <th>name</th>\n",
       "    </tr>\n",
       "  </thead>\n",
       "  <tbody>\n",
       "    <tr>\n",
       "      <th>0</th>\n",
       "      <td>34.207396</td>\n",
       "      <td>Male</td>\n",
       "      <td>1</td>\n",
       "      <td>img_0.bmp</td>\n",
       "    </tr>\n",
       "    <tr>\n",
       "      <th>1</th>\n",
       "      <td>26.453720</td>\n",
       "      <td>Male</td>\n",
       "      <td>1</td>\n",
       "      <td>img_1.bmp</td>\n",
       "    </tr>\n",
       "    <tr>\n",
       "      <th>2</th>\n",
       "      <td>34.967561</td>\n",
       "      <td>Female</td>\n",
       "      <td>1</td>\n",
       "      <td>img_2.bmp</td>\n",
       "    </tr>\n",
       "    <tr>\n",
       "      <th>3</th>\n",
       "      <td>22.044766</td>\n",
       "      <td>Female</td>\n",
       "      <td>1</td>\n",
       "      <td>img_3.bmp</td>\n",
       "    </tr>\n",
       "    <tr>\n",
       "      <th>4</th>\n",
       "      <td>37.758789</td>\n",
       "      <td>Female</td>\n",
       "      <td>1</td>\n",
       "      <td>img_4.bmp</td>\n",
       "    </tr>\n",
       "  </tbody>\n",
       "</table>\n",
       "</div>"
      ],
      "text/plain": [
       "         bmi  gender  is_training       name\n",
       "0  34.207396    Male            1  img_0.bmp\n",
       "1  26.453720    Male            1  img_1.bmp\n",
       "2  34.967561  Female            1  img_2.bmp\n",
       "3  22.044766  Female            1  img_3.bmp\n",
       "4  37.758789  Female            1  img_4.bmp"
      ]
     },
     "execution_count": 17,
     "metadata": {},
     "output_type": "execute_result"
    }
   ],
   "source": [
    "data.head()"
   ]
  },
  {
   "cell_type": "code",
   "execution_count": 19,
   "id": "71b5ac78",
   "metadata": {
    "ExecuteTime": {
     "end_time": "2023-05-21T04:15:18.791823Z",
     "start_time": "2023-05-21T04:14:53.314848Z"
    }
   },
   "outputs": [
    {
     "data": {
      "application/vnd.jupyter.widget-view+json": {
       "model_id": "04e9de0f49fa459b91c18b1d3c9adb80",
       "version_major": 2,
       "version_minor": 0
      },
      "text/plain": [
       "  0%|          | 0/4925 [00:00<?, ?it/s]"
      ]
     },
     "metadata": {},
     "output_type": "display_data"
    }
   ],
   "source": [
    "df = pd.DataFrame(columns=[\"bmi\", \"is_training\", \"name\"])\n",
    "\n",
    "for i in tqdm(range(len(images))):\n",
    "    p = paths[i].replace(\"Images\", \"Augmented-Images\")\n",
    "    if not os.path.exists(p):\n",
    "        im = Image.fromarray(images[i])\n",
    "        im.save(p, format=\"bmp\")\n",
    "    \n",
    "    df.loc[i, \"bmi\"] = bmi[i]\n",
    "    df.loc[i, \"is_training\"] = 1\n",
    "    df.loc[i, \"name\"] = p.split(\"/\")[-1]"
   ]
  },
  {
   "cell_type": "code",
   "execution_count": 20,
   "id": "eae797ac",
   "metadata": {
    "ExecuteTime": {
     "end_time": "2023-05-21T04:15:25.578832Z",
     "start_time": "2023-05-21T04:15:25.571865Z"
    }
   },
   "outputs": [
    {
     "data": {
      "text/html": [
       "<div>\n",
       "<style scoped>\n",
       "    .dataframe tbody tr th:only-of-type {\n",
       "        vertical-align: middle;\n",
       "    }\n",
       "\n",
       "    .dataframe tbody tr th {\n",
       "        vertical-align: top;\n",
       "    }\n",
       "\n",
       "    .dataframe thead th {\n",
       "        text-align: right;\n",
       "    }\n",
       "</style>\n",
       "<table border=\"1\" class=\"dataframe\">\n",
       "  <thead>\n",
       "    <tr style=\"text-align: right;\">\n",
       "      <th></th>\n",
       "      <th>bmi</th>\n",
       "      <th>is_training</th>\n",
       "      <th>name</th>\n",
       "    </tr>\n",
       "  </thead>\n",
       "  <tbody>\n",
       "    <tr>\n",
       "      <th>0</th>\n",
       "      <td>19.366391</td>\n",
       "      <td>1</td>\n",
       "      <td>img_161.bmp</td>\n",
       "    </tr>\n",
       "    <tr>\n",
       "      <th>1</th>\n",
       "      <td>19.575629</td>\n",
       "      <td>1</td>\n",
       "      <td>img_267.bmp</td>\n",
       "    </tr>\n",
       "    <tr>\n",
       "      <th>2</th>\n",
       "      <td>17.718967</td>\n",
       "      <td>1</td>\n",
       "      <td>img_287.bmp</td>\n",
       "    </tr>\n",
       "    <tr>\n",
       "      <th>3</th>\n",
       "      <td>19.90918</td>\n",
       "      <td>1</td>\n",
       "      <td>img_423.bmp</td>\n",
       "    </tr>\n",
       "    <tr>\n",
       "      <th>4</th>\n",
       "      <td>19.966864</td>\n",
       "      <td>1</td>\n",
       "      <td>img_727.bmp</td>\n",
       "    </tr>\n",
       "  </tbody>\n",
       "</table>\n",
       "</div>"
      ],
      "text/plain": [
       "         bmi is_training         name\n",
       "0  19.366391           1  img_161.bmp\n",
       "1  19.575629           1  img_267.bmp\n",
       "2  17.718967           1  img_287.bmp\n",
       "3   19.90918           1  img_423.bmp\n",
       "4  19.966864           1  img_727.bmp"
      ]
     },
     "execution_count": 20,
     "metadata": {},
     "output_type": "execute_result"
    }
   ],
   "source": [
    "df.head()"
   ]
  },
  {
   "cell_type": "code",
   "execution_count": 21,
   "id": "efbd27bc",
   "metadata": {
    "ExecuteTime": {
     "end_time": "2023-05-21T04:15:31.364380Z",
     "start_time": "2023-05-21T04:15:31.351200Z"
    }
   },
   "outputs": [
    {
     "data": {
      "text/plain": [
       "(5763, 3)"
      ]
     },
     "execution_count": 21,
     "metadata": {},
     "output_type": "execute_result"
    }
   ],
   "source": [
    "df = pd.concat([df, data[data.is_training == False][[\"bmi\", \"is_training\", \"name\"]]])\n",
    "df.reset_index(drop=True, inplace=True)\n",
    "df.shape"
   ]
  },
  {
   "cell_type": "code",
   "execution_count": 22,
   "id": "11747e4c",
   "metadata": {
    "ExecuteTime": {
     "end_time": "2023-05-21T04:15:34.071348Z",
     "start_time": "2023-05-21T04:15:34.060902Z"
    }
   },
   "outputs": [
    {
     "data": {
      "text/plain": [
       "(5763,)"
      ]
     },
     "execution_count": 22,
     "metadata": {},
     "output_type": "execute_result"
    }
   ],
   "source": [
    "df.name.unique().shape"
   ]
  },
  {
   "cell_type": "code",
   "execution_count": 23,
   "id": "2c5fe4e4",
   "metadata": {
    "ExecuteTime": {
     "end_time": "2023-05-21T04:15:35.611947Z",
     "start_time": "2023-05-21T04:15:35.606749Z"
    }
   },
   "outputs": [
    {
     "data": {
      "text/plain": [
       "1    4925\n",
       "0     838\n",
       "Name: is_training, dtype: int64"
      ]
     },
     "execution_count": 23,
     "metadata": {},
     "output_type": "execute_result"
    }
   ],
   "source": [
    "df.is_training.value_counts()"
   ]
  },
  {
   "cell_type": "code",
   "execution_count": 24,
   "id": "8b98def6",
   "metadata": {
    "ExecuteTime": {
     "end_time": "2023-05-21T04:15:37.204446Z",
     "start_time": "2023-05-21T04:15:37.199570Z"
    }
   },
   "outputs": [
    {
     "data": {
      "text/plain": [
       "1    3368\n",
       "0     838\n",
       "Name: is_training, dtype: int64"
      ]
     },
     "execution_count": 24,
     "metadata": {},
     "output_type": "execute_result"
    }
   ],
   "source": [
    "data.is_training.value_counts()"
   ]
  },
  {
   "cell_type": "code",
   "execution_count": 25,
   "id": "1d8953b5",
   "metadata": {
    "ExecuteTime": {
     "end_time": "2023-05-21T04:15:41.130360Z",
     "start_time": "2023-05-21T04:15:41.065385Z"
    }
   },
   "outputs": [],
   "source": [
    "df.to_csv(\"../data/augmented-data.csv\", index=False)"
   ]
  },
  {
   "cell_type": "code",
   "execution_count": 31,
   "id": "ed043d4d",
   "metadata": {
    "ExecuteTime": {
     "end_time": "2023-05-21T02:33:49.346140Z",
     "start_time": "2023-05-21T02:32:47.730343Z"
    }
   },
   "outputs": [
    {
     "data": {
      "application/vnd.jupyter.widget-view+json": {
       "model_id": "714635b74ba84c6da90f602580f00183",
       "version_major": 2,
       "version_minor": 0
      },
      "text/plain": [
       "  0%|          | 0/5763 [00:00<?, ?it/s]"
      ]
     },
     "metadata": {},
     "output_type": "display_data"
    }
   ],
   "source": [
    "for i in tqdm(range(len(df))):\n",
    "    if df.is_training[i] == False and os.path.exists(f\"../data/Images/{df.name[i]}\"):\n",
    "        _ = os.system(f\"cp ../data/Images/{df.name[i]} ../data/Augmented-Images/\")"
   ]
  },
  {
   "cell_type": "code",
   "execution_count": 26,
   "id": "b8e9fd4b",
   "metadata": {
    "ExecuteTime": {
     "end_time": "2023-05-21T04:15:43.534925Z",
     "start_time": "2023-05-21T04:15:43.253612Z"
    }
   },
   "outputs": [
    {
     "name": "stdout",
     "output_type": "stream",
     "text": [
      "5672\r\n"
     ]
    }
   ],
   "source": [
    "!ls ../data/Augmented-Images | wc -l"
   ]
  },
  {
   "cell_type": "code",
   "execution_count": 18,
   "id": "bf3549ae",
   "metadata": {
    "ExecuteTime": {
     "end_time": "2023-05-21T04:14:48.085627Z",
     "start_time": "2023-05-21T04:14:47.628891Z"
    }
   },
   "outputs": [
    {
     "name": "stdout",
     "output_type": "stream",
     "text": [
      "5672\r\n"
     ]
    }
   ],
   "source": [
    "!ls ../data/Augmented-Images | wc -l"
   ]
  },
  {
   "cell_type": "code",
   "execution_count": 27,
   "id": "00beeeb0",
   "metadata": {
    "ExecuteTime": {
     "end_time": "2023-05-21T04:16:17.870745Z",
     "start_time": "2023-05-21T04:16:17.866256Z"
    }
   },
   "outputs": [
    {
     "data": {
      "text/plain": [
       "(5763, 3)"
      ]
     },
     "execution_count": 27,
     "metadata": {},
     "output_type": "execute_result"
    }
   ],
   "source": [
    "df.shape"
   ]
  },
  {
   "cell_type": "code",
   "execution_count": null,
   "id": "c719e427",
   "metadata": {},
   "outputs": [],
   "source": []
  },
  {
   "cell_type": "code",
   "execution_count": null,
   "id": "bc1c53dc",
   "metadata": {},
   "outputs": [],
   "source": []
  },
  {
   "cell_type": "code",
   "execution_count": null,
   "id": "5e01cbce",
   "metadata": {},
   "outputs": [],
   "source": []
  }
 ],
 "metadata": {
  "kernelspec": {
   "display_name": "Python 3 (ipykernel)",
   "language": "python",
   "name": "python3"
  },
  "language_info": {
   "codemirror_mode": {
    "name": "ipython",
    "version": 3
   },
   "file_extension": ".py",
   "mimetype": "text/x-python",
   "name": "python",
   "nbconvert_exporter": "python",
   "pygments_lexer": "ipython3",
   "version": "3.10.9"
  }
 },
 "nbformat": 4,
 "nbformat_minor": 5
}
